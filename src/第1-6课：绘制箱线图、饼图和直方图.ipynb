{
 "cells": [
  {
   "cell_type": "markdown",
   "metadata": {},
   "source": [
    "# 第1-6课：绘制箱线图、饼图和直方图"
   ]
  },
  {
   "cell_type": "markdown",
   "metadata": {},
   "source": [
    "它能显示出一组数据的上限、下限、中位数及上下四分位数。\n",
    "\n",
    "中位数：由矩形箱子中的线表示。中位数常用于度量数据的中心，一半观测值小于等于该值，而另一半则大于等于该值。\n",
    "四分位间距框：四分位间距框表示中间 50% 的数据，即上图中的矩形框，它的上下边之间的距离表示“上四分位数 Q3”和“下四分位数 Q1”的差（Q3-Q1）。\n",
    "须和上限、下限：由矩形框向两侧延伸的线段，线段的终点分别称为“上限”和“下限”。\n",
    "异常值：超出“上限”和“下限”范围的值。"
   ]
  },
  {
   "cell_type": "markdown",
   "metadata": {},
   "source": [
    "四分位数等于与该位置两侧的两个整数的加权平均数，此权重取决于相对两侧整数的距离远近，距离越近，权重越大，距离越远，权重越小，权数之和等于 1。"
   ]
  },
  {
   "cell_type": "code",
   "execution_count": 1,
   "metadata": {},
   "outputs": [
    {
     "data": {
      "image/png": "[encoded data removed]",
      "text/plain": [
       "<Figure size 432x288 with 2 Axes>"
      ]
     },
     "metadata": {
      "needs_background": "light"
     },
     "output_type": "display_data"
    }
   ],
   "source": [
    "%matplotlib inline\n",
    "import matplotlib.pyplot as plt\n",
    "\n",
    "fig,ax = plt.subplots(1, 2)\n",
    "data = [1, 5, 9, 2]\n",
    "ax[0].boxplot([data]) \n",
    "ax[0].grid(True)\n",
    "ax[1].boxplot([data], showmeans=True)    # 显示平均值\n",
    "ax[1].grid(True)"
   ]
  },
  {
   "cell_type": "code",
   "execution_count": 2,
   "metadata": {},
   "outputs": [],
   "source": [
    "import numpy as np\n",
    "np.random.seed(10)\n",
    "collectn_1 = np.random.normal(100, 10, 200)\n",
    "collectn_2 = np.random.normal(80, 30, 200)\n",
    "collectn_3 = np.random.normal(90, 20, 200)\n",
    "collectn_4 = np.random.normal(70, 25, 200)   \n",
    "data = [collectn_1, collectn_2, collectn_3, collectn_4]\n"
   ]
  },
  {
   "cell_type": "code",
   "execution_count": 4,
   "metadata": {},
   "outputs": [
    {
     "data": {
      "image/png": "[encoded data removed]",
      "text/plain": [
       "<Figure size 648x432 with 1 Axes>"
      ]
     },
     "metadata": {
      "needs_background": "light"
     },
     "output_type": "display_data"
    }
   ],
   "source": [
    "fig = plt.figure(1, figsize=(9, 6))\n",
    "ax = fig.add_subplot(111)\n",
    "bp = ax.boxplot(data, patch_artist=True)    #①"
   ]
  },
  {
   "cell_type": "code",
   "execution_count": 5,
   "metadata": {},
   "outputs": [
    {
     "data": {
      "image/png": "[encoded data removed]",
      "text/plain": [
       "<Figure size 648x432 with 1 Axes>"
      ]
     },
     "metadata": {
      "needs_background": "light"
     },
     "output_type": "display_data"
    }
   ],
   "source": [
    "fig = plt.figure(1, figsize=(9, 6))\n",
    "ax = fig.add_subplot(111)\n",
    "bp = ax.boxplot(data, patch_artist=True)\n",
    "# 修改矩形框内的填充色和矩形框的边线\n",
    "for box in bp['boxes']:\n",
    "    box.set( color='#7570b3', linewidth=2)    # 矩形框边线颜色和粗细\n",
    "    box.set( facecolor = '#1b9e77' )    # 填充色\n",
    "\n",
    "# 须线的粗细和颜色\n",
    "for whisker in bp['whiskers']:\n",
    "    whisker.set(color='red', linewidth=2)\n",
    "\n",
    "# 表示上下限的线的颜色和粗细\n",
    "for cap in bp['caps']:\n",
    "    cap.set(color='black', linewidth=2)\n",
    "\n",
    "# 表示中位数的的线的颜色和粗细\n",
    "for median in bp['medians']:\n",
    "    median.set(color='#b2df8a', linewidth=4)\n",
    "\n",
    "# 表示离群值的符号设置\n",
    "for flier in bp['fliers']:\n",
    "    flier.set(marker='*', color='#e7298a', alpha=0.5)\n",
    "\n",
    "# 设置坐标轴\n",
    "ax.set_xticklabels(['Sample1', 'Sample2', 'Sample3', 'Sample4'])\n",
    "ax.get_xaxis().tick_bottom()\n",
    "ax.get_yaxis().tick_left()"
   ]
  },
  {
   "cell_type": "markdown",
   "metadata": {},
   "source": [
    "变量 bp 引用的对象是字典对象，其中包含（以下各项其实都是对象）：\n",
    "\n",
    "boxes，箱线图的矩形框\n",
    "whiskers，箱线图的须线，即从矩形框开始向两侧延伸的线段\n",
    "medians，表示中位数的线段\n",
    "caps，表示上、下限的线段\n",
    "fliers，表示离群值的符号\n",
    "means，表示平均值的符号"
   ]
  },
  {
   "cell_type": "code",
   "execution_count": 6,
   "metadata": {},
   "outputs": [
    {
     "data": {
      "text/html": [
       "<div>\n",
       "<style scoped>\n",
       "    .dataframe tbody tr th:only-of-type {\n",
       "        vertical-align: middle;\n",
       "    }\n",
       "\n",
       "    .dataframe tbody tr th {\n",
       "        vertical-align: top;\n",
       "    }\n",
       "\n",
       "    .dataframe thead th {\n",
       "        text-align: right;\n",
       "    }\n",
       "</style>\n",
       "<table border=\"1\" class=\"dataframe\">\n",
       "  <thead>\n",
       "    <tr style=\"text-align: right;\">\n",
       "      <th></th>\n",
       "      <th>A</th>\n",
       "      <th>B</th>\n",
       "      <th>C</th>\n",
       "      <th>D</th>\n",
       "    </tr>\n",
       "  </thead>\n",
       "  <tbody>\n",
       "    <tr>\n",
       "      <th>0</th>\n",
       "      <td>0.021043</td>\n",
       "      <td>0.156372</td>\n",
       "      <td>1.037654</td>\n",
       "      <td>0.045666</td>\n",
       "    </tr>\n",
       "    <tr>\n",
       "      <th>1</th>\n",
       "      <td>1.107336</td>\n",
       "      <td>-1.337789</td>\n",
       "      <td>-0.253667</td>\n",
       "      <td>1.254880</td>\n",
       "    </tr>\n",
       "    <tr>\n",
       "      <th>2</th>\n",
       "      <td>-0.080545</td>\n",
       "      <td>-1.220842</td>\n",
       "      <td>-1.155926</td>\n",
       "      <td>-0.757340</td>\n",
       "    </tr>\n",
       "    <tr>\n",
       "      <th>3</th>\n",
       "      <td>-1.312391</td>\n",
       "      <td>0.495349</td>\n",
       "      <td>-2.815061</td>\n",
       "      <td>-0.821378</td>\n",
       "    </tr>\n",
       "    <tr>\n",
       "      <th>4</th>\n",
       "      <td>-1.390651</td>\n",
       "      <td>-1.373243</td>\n",
       "      <td>-0.569552</td>\n",
       "      <td>-1.234933</td>\n",
       "    </tr>\n",
       "  </tbody>\n",
       "</table>\n",
       "</div>"
      ],
      "text/plain": [
       "          A         B         C         D\n",
       "0  0.021043  0.156372  1.037654  0.045666\n",
       "1  1.107336 -1.337789 -0.253667  1.254880\n",
       "2 -0.080545 -1.220842 -1.155926 -0.757340\n",
       "3 -1.312391  0.495349 -2.815061 -0.821378\n",
       "4 -1.390651 -1.373243 -0.569552 -1.234933"
      ]
     },
     "execution_count": 6,
     "metadata": {},
     "output_type": "execute_result"
    }
   ],
   "source": [
    "import pandas as pd\n",
    "import numpy as np\n",
    "data = np.random.randn(25, 4)\n",
    "df = pd.DataFrame(data, columns=list('ABCD'))\n",
    "df.head()"
   ]
  },
  {
   "cell_type": "code",
   "execution_count": 7,
   "metadata": {},
   "outputs": [
    {
     "data": {
      "image/png": "[encoded data removed]",
      "text/plain": [
       "<Figure size 432x288 with 1 Axes>"
      ]
     },
     "metadata": {
      "needs_background": "light"
     },
     "output_type": "display_data"
    }
   ],
   "source": [
    "ax = df.plot.box()"
   ]
  },
  {
   "cell_type": "markdown",
   "metadata": {},
   "source": [
    "#饼图是用来表示数据中各项的代销占总数的比例。在 Matplotlib 中，pie 是用来绘制饼图的方法（函数）。"
   ]
  },
  {
   "cell_type": "code",
   "execution_count": 9,
   "metadata": {},
   "outputs": [
    {
     "data": {
      "text/plain": [
       "[Text(0.5, 1.0, 'Pie'), None]"
      ]
     },
     "execution_count": 9,
     "metadata": {},
     "output_type": "execute_result"
    },
    {
     "data": {
      "image/png": "[encoded data removed]",
      "text/plain": [
       "<Figure size 432x288 with 1 Axes>"
      ]
     },
     "metadata": {},
     "output_type": "display_data"
    }
   ],
   "source": [
    "x = [2, 4, 6 ,8]\n",
    "fig, ax = plt.subplots()\n",
    "labels = ['A', 'B', 'C', 'D']\n",
    "colors = ['red', 'yellow', 'blue', 'green']\n",
    "explode = (0, 0.1, 0, 0)\n",
    "ax.pie(x, explode=explode, labels=labels, \n",
    "       colors=colors, autopct='%1.1f%%', shadow=True, startangle=90, radius=1.2) \n",
    "ax.set(aspect=\"equal\", title='Pie')"
   ]
  },
  {
   "cell_type": "code",
   "execution_count": 10,
   "metadata": {},
   "outputs": [],
   "source": [
    "# 此代码中 ax.pie 的各个参数。\n",
    "\n",
    "# x：毫无疑问，是数据。\n",
    "# explode：“扇面”的偏离。饼图一个“圆饼”，被分成了 4 个“扇面”，explode 中第二个数 0.1，对应 B“扇面”偏离 0.1，其他为零，即不偏离。\n",
    "# labels：为每个“扇面”设置标示。\n",
    "# colors：为每个“扇面”设置颜色。\n",
    "# autopct：按照规定格式在每个“扇面”上显示百分比。\n",
    "# shadow：是否有阴影。\n",
    "# startangle：第一个“扇形”开始的角度，然后默认依逆时针旋转。\n",
    "# radius：半径大小。\n"
   ]
  },
  {
   "cell_type": "code",
   "execution_count": 11,
   "metadata": {},
   "outputs": [
    {
     "data": {
      "text/plain": [
       "Text(0.5, 1.0, '频数/频率分布直方图')"
      ]
     },
     "execution_count": 11,
     "metadata": {},
     "output_type": "execute_result"
    },
    {
     "data": {
      "image/png": "[encoded data removed]",
      "text/plain": [
       "<Figure size 432x288 with 1 Axes>"
      ]
     },
     "metadata": {
      "needs_background": "light"
     },
     "output_type": "display_data"
    }
   ],
   "source": [
    "import matplotlib \n",
    "matplotlib.rcParams['axes.unicode_minus']=False # ③\n",
    "\n",
    "data = np.random.randn(10000)    # ④\n",
    "plt.hist(data, bins=40, density=True, facecolor=\"blue\", edgecolor=\"black\", alpha=0.7) \n",
    "plt.xlabel(\"区间\") \n",
    "plt.ylabel(\"频率\") \n",
    "plt.title(\"频数/频率分布直方图\")"
   ]
  },
  {
   "cell_type": "markdown",
   "metadata": {},
   "source": [
    "plt.hist 语句中的参数含义如下。\n",
    "\n",
    "data：必选参数，绘图数据。\n",
    "bins：这个参数的赋值比较多样化。\n",
    "如果是整数，则表示直方图中矩形数目，即组距（小区间）的数目。\n",
    "如果是数列，比如 [1,2,3,4,5]，则表示直方图中矩形左右边界（即组距的左右边界，组限）是 [1, 2), [2, 3), [3, 4), [4, 5]，即组距数目为 4（矩形数量为 4）。\n",
    "density=True：本例中如此设置，则所得直方图表示的归一化后的频率（概率密度），即直方图下的面积总和为 1；如果不设置，则显示的是频数，没有归一化。\n",
    "facecolor：直方图中矩形的颜色。\n",
    "edgecolor：矩形边的颜色。\n",
    "alpha：图像透明度。\n"
   ]
  },
  {
   "cell_type": "code",
   "execution_count": 12,
   "metadata": {},
   "outputs": [
    {
     "data": {
      "image/png": "[encoded data removed]",
      "text/plain": [
       "<Figure size 432x288 with 1 Axes>"
      ]
     },
     "metadata": {
      "needs_background": "light"
     },
     "output_type": "display_data"
    }
   ],
   "source": [
    "np.random.seed(19680801)\n",
    "\n",
    "mu, sigma = 100, 15    # 分别表示平均数和标准差\n",
    "x = mu + sigma * np.random.randn(10000)\n",
    "\n",
    "# 绘制直方图，并得到返回值\n",
    "n, bins, patches = plt.hist(x, 50, density=True, facecolor='g', alpha=0.75)    # ⑧\n",
    "\n",
    "# 设置坐标系\n",
    "plt.xlabel('Smarts')\n",
    "plt.ylabel('Probability')\n",
    "plt.title('Histogram of IQ')\n",
    "plt.text(60, .025, r'$\\mu=100,\\ \\sigma=15$')\n",
    "plt.axis([40, 160, 0, 0.03])\n",
    "plt.grid(True)"
   ]
  },
  {
   "cell_type": "code",
   "execution_count": 13,
   "metadata": {},
   "outputs": [
    {
     "data": {
      "text/plain": [
       "(0.0, 80.0)"
      ]
     },
     "execution_count": 13,
     "metadata": {},
     "output_type": "execute_result"
    },
    {
     "data": {
      "image/png": "[encoded data removed]",
      "text/plain": [
       "<Figure size 432x288 with 1 Axes>"
      ]
     },
     "metadata": {
      "needs_background": "light"
     },
     "output_type": "display_data"
    }
   ],
   "source": [
    "# 拉普拉斯分布\n",
    "np.random.seed(444)\n",
    "d = np.random.laplace(loc=15, scale=3, size=500)\n",
    "n, bins, patches = plt.hist(x=d, bins='auto', color='#0504aa', alpha=0.7, rwidth=0.85)\n",
    "\n",
    "plt.grid(axis='y', alpha=0.75)\n",
    "plt.xlabel('Value')\n",
    "plt.ylabel('Frequency')\n",
    "plt.title('My Very Own Histogram')\n",
    "plt.text(23, 45, r'$\\mu=15, b=3$')\n",
    "maxfreq = n.max()\n",
    "plt.ylim(top=np.ceil(maxfreq / 10) * 10 if maxfreq % 10 else maxfreq + 10)"
   ]
  },
  {
   "cell_type": "code",
   "execution_count": 14,
   "metadata": {},
   "outputs": [
    {
     "data": {
      "text/html": [
       "<div>\n",
       "<style scoped>\n",
       "    .dataframe tbody tr th:only-of-type {\n",
       "        vertical-align: middle;\n",
       "    }\n",
       "\n",
       "    .dataframe tbody tr th {\n",
       "        vertical-align: top;\n",
       "    }\n",
       "\n",
       "    .dataframe thead th {\n",
       "        text-align: right;\n",
       "    }\n",
       "</style>\n",
       "<table border=\"1\" class=\"dataframe\">\n",
       "  <thead>\n",
       "    <tr style=\"text-align: right;\">\n",
       "      <th></th>\n",
       "      <th>a</th>\n",
       "      <th>b</th>\n",
       "    </tr>\n",
       "  </thead>\n",
       "  <tbody>\n",
       "    <tr>\n",
       "      <th>min</th>\n",
       "      <td>-2.93</td>\n",
       "      <td>14.40</td>\n",
       "    </tr>\n",
       "    <tr>\n",
       "      <th>max</th>\n",
       "      <td>22.58</td>\n",
       "      <td>27.08</td>\n",
       "    </tr>\n",
       "    <tr>\n",
       "      <th>mean</th>\n",
       "      <td>9.58</td>\n",
       "      <td>19.93</td>\n",
       "    </tr>\n",
       "    <tr>\n",
       "      <th>std</th>\n",
       "      <td>4.18</td>\n",
       "      <td>1.92</td>\n",
       "    </tr>\n",
       "  </tbody>\n",
       "</table>\n",
       "</div>"
      ],
      "text/plain": [
       "          a      b\n",
       "min   -2.93  14.40\n",
       "max   22.58  27.08\n",
       "mean   9.58  19.93\n",
       "std    4.18   1.92"
      ]
     },
     "execution_count": 14,
     "metadata": {},
     "output_type": "execute_result"
    }
   ],
   "source": [
    "means = 10, 20\n",
    "stdevs = 4, 2\n",
    "dist = pd.DataFrame(np.random.normal(loc=means, scale=stdevs, size=(1000, 2)), columns=['a', 'b'])\n",
    "dist.agg(['min', 'max', 'mean', 'std']).round(decimals=2)\n"
   ]
  },
  {
   "cell_type": "code",
   "execution_count": 15,
   "metadata": {},
   "outputs": [
    {
     "data": {
      "image/png": "[encoded data removed]",
      "text/plain": [
       "<Figure size 432x288 with 1 Axes>"
      ]
     },
     "metadata": {
      "needs_background": "light"
     },
     "output_type": "display_data"
    }
   ],
   "source": [
    "fig, ax = plt.subplots()\n",
    "dist.plot.hist(density=True, ax=ax)    # ⑨\n",
    "dist.plot.kde(ax=ax, legend=False, title='Histogram: A vs. B')    # ⑩\n",
    "\n",
    "ax.set_ylabel('Probability')\n",
    "ax.grid(axis='y')\n",
    "ax.set_facecolor('#d8dcd6')"
   ]
  },
  {
   "cell_type": "code",
   "execution_count": null,
   "metadata": {},
   "outputs": [],
   "source": []
  }
 ],
 "metadata": {
  "kernelspec": {
   "display_name": "Python 3",
   "language": "python",
   "name": "python3"
  },
  "language_info": {
   "codemirror_mode": {
    "name": "ipython",
    "version": 3
   },
   "file_extension": ".py",
   "mimetype": "text/x-python",
   "name": "python",
   "nbconvert_exporter": "python",
   "pygments_lexer": "ipython3",
   "version": "3.7.1"
  }
 },
 "nbformat": 4,
 "nbformat_minor": 2
}
